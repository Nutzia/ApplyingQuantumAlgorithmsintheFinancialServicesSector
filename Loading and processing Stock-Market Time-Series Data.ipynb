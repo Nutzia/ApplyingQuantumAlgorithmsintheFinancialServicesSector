{
 "cells": [
  {
   "cell_type": "markdown",
   "metadata": {},
   "source": [
    "# Loading and Processing Stock-Market Time-Series Data"
   ]
  },
  {
   "cell_type": "markdown",
   "metadata": {},
   "source": [
    "In this notebook we’ll show you how we generate pseudo-random time-series, download actual stock-market time series from a common provider, and how we can compute time-series similarity measures. We use these data as samples, and they could be easily replaced by real stock values in concrete situations. The notebook code snippets we will execute are based on an existing repository, you can find this repository and more information via https://github.com/Qiskit/qiskit-finance/blob/stable/0.3/docs/tutorials/11_time_series.ipynb. "
   ]
  },
  {
   "cell_type": "markdown",
   "metadata": {},
   "source": [
    "### Pseudo-random time-series\n",
    "\n",
    "First, we import all the requirements and modules needed for our Qiskit notebook."
   ]
  },
  {
   "cell_type": "code",
   "execution_count": 1,
   "metadata": {
    "ExecuteTime": {
     "end_time": "2020-07-13T20:25:16.323844Z",
     "start_time": "2020-07-13T20:25:12.717917Z"
    },
    "scrolled": true
   },
   "outputs": [],
   "source": [
    "%matplotlib inline\n",
    "from qiskit_finance import QiskitFinanceError\n",
    "from qiskit_finance.data_providers import *\n",
    "import datetime\n",
    "import matplotlib.pyplot as plt\n",
    "from pandas.plotting import register_matplotlib_converters\n",
    "\n",
    "register_matplotlib_converters()"
   ]
  },
  {
   "cell_type": "markdown",
   "metadata": {},
   "source": [
    "Next, we create a dataset where we declare two stock tickers and the start and end time for the period we want to analyse our stock tickers. A stock ticker reports transaction and price data for a security, thus a financial instrument, updated continuously throughout the determined period. The dataset we declare is our time-series."
   ]
  },
  {
   "cell_type": "code",
   "execution_count": 2,
   "metadata": {
    "ExecuteTime": {
     "end_time": "2020-07-13T20:25:16.335367Z",
     "start_time": "2020-07-13T20:25:16.325777Z"
    }
   },
   "outputs": [],
   "source": [
    "data = RandomDataProvider(\n",
    "    tickers=[\"STOCKTICKER1\", \"STOCKTICKER2\"],\n",
    "    start=datetime.datetime(2016, 1, 1),\n",
    "    end=datetime.datetime(2016, 1, 30),\n",
    "    seed=1,\n",
    ")\n",
    "data.run()"
   ]
  },
  {
   "cell_type": "markdown",
   "metadata": {},
   "source": [
    "Now that the dataset is loaded, we can work with it and run a variety of computations or algorithms on the dataset. We will compute the covariance matrix, a square matrix giving the covariance between each pair of elements of a given random vector, which considers alternative time-series similarity measures based on dynamic time warping (DTW). In DTW, changes that vary in speed, e.g., one stock's price following another stock's price with a small delay, can be accommodated."
   ]
  },
  {
   "cell_type": "code",
   "execution_count": 3,
   "metadata": {
    "ExecuteTime": {
     "end_time": "2020-07-13T20:25:17.431763Z",
     "start_time": "2020-07-13T20:25:17.065473Z"
    }
   },
   "outputs": [
    {
     "name": "stdout",
     "output_type": "stream",
     "text": [
      "Means:\n",
      "[33.97683271 97.61130683]\n",
      "A time-series similarity measure:\n",
      "[[1.00000000e+00 5.41888011e-04]\n",
      " [5.41888011e-04 1.00000000e+00]]\n"
     ]
    },
    {
     "data": {
      "image/png": "[encoded data removed]",
      "text/plain": [
       "<Figure size 432x288 with 1 Axes>"
      ]
     },
     "metadata": {
      "needs_background": "light"
     },
     "output_type": "display_data"
    },
    {
     "name": "stdout",
     "output_type": "stream",
     "text": [
      "A covariance matrix:\n",
      "[[2.08413157 0.20842107]\n",
      " [0.20842107 1.99542187]]\n"
     ]
    },
    {
     "data": {
      "image/png": "[encoded data removed]",
      "text/plain": [
       "<Figure size 432x288 with 1 Axes>"
      ]
     },
     "metadata": {
      "needs_background": "light"
     },
     "output_type": "display_data"
    }
   ],
   "source": [
    "means = data.get_mean_vector()\n",
    "print(\"Means:\")\n",
    "print(means)\n",
    "\n",
    "rho = data.get_similarity_matrix()\n",
    "print(\"A time-series similarity measure:\")\n",
    "print(rho)\n",
    "plt.imshow(rho)\n",
    "plt.show()\n",
    "\n",
    "cov = data.get_covariance_matrix()\n",
    "print(\"A covariance matrix:\")\n",
    "print(cov)\n",
    "plt.imshow(cov)\n",
    "plt.show()"
   ]
  },
  {
   "cell_type": "markdown",
   "metadata": {},
   "source": [
    "Next, we can also look into the underlying evolution of the stock prices in our used pseudo-random time-series."
   ]
  },
  {
   "cell_type": "code",
   "execution_count": 4,
   "metadata": {
    "ExecuteTime": {
     "end_time": "2020-07-13T20:25:18.273108Z",
     "start_time": "2020-07-13T20:25:18.075425Z"
    }
   },
   "outputs": [
    {
     "name": "stdout",
     "output_type": "stream",
     "text": [
      "The underlying evolution of stock prices:\n"
     ]
    },
    {
     "data": {
      "image/png": "[encoded data removed]",
      "text/plain": [
       "<Figure size 432x288 with 1 Axes>"
      ]
     },
     "metadata": {
      "needs_background": "light"
     },
     "output_type": "display_data"
    },
    {
     "name": "stdout",
     "output_type": "stream",
     "text": [
      "STOCKTICKER1\n",
      "[33.345584192064784, 34.167202335565946, 34.49763941174933, 33.19448218014497, 34.099838046818086, 34.5462126191821, 34.009259383821814, 34.59037748801817, 34.95494988420424, 35.24908238085977, 35.27750462217556, 35.82421760878801, 35.08776352178634, 34.92485357379329, 34.442734261113316, 35.04158047374794, 35.0813025812296, 34.78884583026451, 34.00693736790767, 33.7497451272888, 33.757887307807145, 33.48228440250777, 34.77634821690598, 35.783072532211776, 33.07191005324581, 31.182896807278134, 31.008124715222973, 30.585934303646617, 30.799577301145227]\n",
      "STOCKTICKER2\n",
      "[96.8774156647853, 98.99525441983634, 97.88323365714406, 97.50562865001707, 99.5484002575094, 100.19510325371124, 100.85816662608751, 100.34416025440004, 98.69608508354439, 98.86354982776713, 98.97256391558868, 97.7452118613441, 97.06198519956354, 96.98994151983632, 96.04518989677554, 95.94691992892332, 96.04240295639278, 96.07798919344826, 95.57169753513395, 96.16544560691977, 97.0566125612021, 97.37746086576867, 96.55923063837835, 97.29088292216379, 96.78944290369674, 97.66860352198472, 96.59681610510728, 97.51128330823606, 97.49121985362058]\n"
     ]
    }
   ],
   "source": [
    "print(\"The underlying evolution of stock prices:\")\n",
    "for (cnt, s) in enumerate(data._tickers):\n",
    "    plt.plot(data._data[cnt], label=s)\n",
    "plt.legend()\n",
    "plt.xticks(rotation=90)\n",
    "plt.show()\n",
    "\n",
    "for (cnt, s) in enumerate(data._tickers):\n",
    "    print(s)\n",
    "    print(data._data[cnt])"
   ]
  },
  {
   "cell_type": "markdown",
   "metadata": {},
   "source": [
    "Last, we can experiment and choose a different kind of dataset. We now choose to create three stock tickers and a different period to analyse these stock tickers, also notice that we have adapted the stock ticker names to create a more suitable graphic."
   ]
  },
  {
   "cell_type": "code",
   "execution_count": 5,
   "metadata": {
    "ExecuteTime": {
     "end_time": "2020-07-13T20:25:19.448980Z",
     "start_time": "2020-07-13T20:25:19.219411Z"
    },
    "tags": [
     "nbsphinx-thumbnail"
    ]
   },
   "outputs": [
    {
     "data": {
      "image/png": "[encoded data removed]",
      "text/plain": [
       "<Figure size 432x288 with 1 Axes>"
      ]
     },
     "metadata": {
      "needs_background": "light"
     },
     "output_type": "display_data"
    }
   ],
   "source": [
    "data = RandomDataProvider(\n",
    "    tickers=[\"Company A\", \"Company B\", \"Company C\"],\n",
    "    start=datetime.datetime(2015, 1, 1),\n",
    "    end=datetime.datetime(2016, 1, 30),\n",
    "    seed=1,\n",
    ")\n",
    "data.run()\n",
    "for (cnt, s) in enumerate(data._tickers):\n",
    "    plt.plot(data._data[cnt], label=s)\n",
    "plt.legend()\n",
    "plt.xticks(rotation=90)\n",
    "plt.show()"
   ]
  },
  {
   "cell_type": "markdown",
   "metadata": {},
   "source": [
    "### Actual historical closing-price time-series"
   ]
  },
  {
   "cell_type": "markdown",
   "metadata": {},
   "source": [
    "_! Note that the output of the following code will give error messages. This is because you need to insert an API kery first !_"
   ]
  },
  {
   "cell_type": "markdown",
   "metadata": {},
   "source": [
    "Normally the access to real-time data requires a subscription or a payment, it’s possible to access historical data for free through a number of common providers. We will access historical time-series via Wikipedia and Quandl following registration at https://www.quandl.com/?modal=register. Upon registration you receive an API key from Quandl, this API key can be used in the code below to make a connection to their API to request a dataset of stock tickers from their database. To include your own API key in the code you need to replace “REPLACE ME” with your own API key, make sure to leave the quotation marks present for correct interpretation."
   ]
  },
  {
   "cell_type": "code",
   "execution_count": 6,
   "metadata": {
    "ExecuteTime": {
     "end_time": "2020-07-13T20:25:35.200648Z",
     "start_time": "2020-07-13T20:25:19.646682Z"
    }
   },
   "outputs": [
    {
     "name": "stdout",
     "output_type": "stream",
     "text": [
      "'Quandl invalid token.'\n",
      "Error retrieving data.\n"
     ]
    }
   ],
   "source": [
    "stocks = [\"GOOG\", \"AAPL\"]\n",
    "\n",
    "token = \"REPLACE ME\"\n",
    "if token == \"REPLACE ME\":\n",
    "    try:\n",
    "        wiki = WikipediaDataProvider(\n",
    "            token=token,\n",
    "            tickers=stocks,\n",
    "            start=datetime.datetime(2016, 1, 1),\n",
    "            end=datetime.datetime(2016, 1, 30),\n",
    "        )\n",
    "        wiki.run()\n",
    "    except QiskitFinanceError as ex:\n",
    "        print(ex)\n",
    "        print(\"Error retrieving data.\")"
   ]
  },
  {
   "cell_type": "markdown",
   "metadata": {},
   "source": [
    "We use two stock tickers so we can compute the covariance and time-series matrices, but note that hundreds of tickers may go beyond the fair usage limits of Quandl. In the code below you can see our computations."
   ]
  },
  {
   "cell_type": "code",
   "execution_count": 7,
   "metadata": {
    "ExecuteTime": {
     "end_time": "2020-07-13T20:25:35.209735Z",
     "start_time": "2020-07-13T20:25:35.203166Z"
    }
   },
   "outputs": [
    {
     "name": "stdout",
     "output_type": "stream",
     "text": [
      "No wiki data loaded.\n"
     ]
    }
   ],
   "source": [
    "if token == \"REPLACE ME\":\n",
    "    if wiki._data:\n",
    "        if wiki._n <= 1:\n",
    "            print(\n",
    "                \"Not enough wiki data to plot covariance or time-series similarity.\" \n",
    "                \"Please use at least two tickers.\"\n",
    "            )\n",
    "        else:\n",
    "            rho = wiki.get_similarity_matrix()\n",
    "            print(\"A time-series similarity measure:\")\n",
    "            print(rho)\n",
    "            plt.imshow(rho)\n",
    "            plt.show()\n",
    "\n",
    "            cov = wiki.get_covariance_matrix()\n",
    "            print(\"A covariance matrix:\")\n",
    "            print(cov)\n",
    "            plt.imshow(cov)\n",
    "            plt.show()\n",
    "    else:\n",
    "        print(\"No wiki data loaded.\")"
   ]
  },
  {
   "cell_type": "markdown",
   "metadata": {},
   "source": [
    "Next, we can look into the underlying evolution of the stock prices in our actual historical closing-price time-series."
   ]
  },
  {
   "cell_type": "code",
   "execution_count": 8,
   "metadata": {
    "ExecuteTime": {
     "end_time": "2020-07-13T20:25:35.232224Z",
     "start_time": "2020-07-13T20:25:35.212691Z"
    }
   },
   "outputs": [
    {
     "name": "stdout",
     "output_type": "stream",
     "text": [
      "No wiki data loaded.\n"
     ]
    }
   ],
   "source": [
    "if token == \"REPLACE ME\":\n",
    "    if wiki._data:\n",
    "        print(\"The underlying evolution of stock prices:\")\n",
    "        for (cnt, s) in enumerate(stocks):\n",
    "            plt.plot(wiki._data[cnt], label=s)\n",
    "        plt.legend()\n",
    "        plt.xticks(rotation=90)\n",
    "        plt.show()\n",
    "\n",
    "        for (cnt, s) in enumerate(stocks):\n",
    "            print(s)\n",
    "            print(wiki._data[cnt])\n",
    "    else:\n",
    "        print(\"No wiki data loaded.\")"
   ]
  }
 ],
 "metadata": {
  "celltoolbar": "Raw-celnotatie",
  "kernelspec": {
   "display_name": "Python 3",
   "language": "python",
   "name": "python3"
  },
  "language_info": {
   "codemirror_mode": {
    "name": "ipython",
    "version": 3
   },
   "file_extension": ".py",
   "mimetype": "text/x-python",
   "name": "python",
   "nbconvert_exporter": "python",
   "pygments_lexer": "ipython3",
   "version": "3.8.5"
  },
  "varInspector": {
   "cols": {
    "lenName": 16,
    "lenType": 16,
    "lenVar": 40
   },
   "kernels_config": {
    "python": {
     "delete_cmd_postfix": "",
     "delete_cmd_prefix": "del ",
     "library": "var_list.py",
     "varRefreshCmd": "print(var_dic_list())"
    },
    "r": {
     "delete_cmd_postfix": ") ",
     "delete_cmd_prefix": "rm(",
     "library": "var_list.r",
     "varRefreshCmd": "cat(var_dic_list()) "
    }
   },
   "types_to_exclude": [
    "module",
    "function",
    "builtin_function_or_method",
    "instance",
    "_Feature"
   ],
   "window_display": false
  }
 },
 "nbformat": 4,
 "nbformat_minor": 2
}
